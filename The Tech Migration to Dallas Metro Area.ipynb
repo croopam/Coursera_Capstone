{
    "cells": [
        {
            "cell_type": "markdown",
            "metadata": {
                "collapsed": true
            },
            "source": "<h1 align=center><font size=5>Coursera Capstone - The Tech Migration to Dallas\u2013Fort Worth metroplex</font></h1>"
        },
        {
            "cell_type": "markdown",
            "metadata": {},
            "source": "<h1>Introduction - Business Problem </h1>\n\nDallas\u2013Fort Worth metroplex area has quickly become a hub for tech companies, tech departments of Banking and Financial Services organizations and start ups, with companies moving from high cost and denser areas like Bay Area and NY Metro. The migration is not only driving growth and innovation, it is also impacting the real estate market. The objective of this project is to cluster neighborhoods in Dallas, so that migrating tech workers moving from Bay Area or any other Tech Metro areas can make an informed decision on the neighborhood to choose for their future homes."
        },
        {
            "cell_type": "markdown",
            "metadata": {},
            "source": "<h1>Data</h1>\n\nWe will explore, segment, and cluster the neighborhoods based on the Zipcodes in the Dallas\u2013Fort Worth metroplex. The Wikipage https://en.wikipedia.org/wiki/Dallas%E2%80%93Fort_Worth_metroplex#Dallas%E2%80%93Plano%E2%80%93Irving_metropolitan_division[26][27] has all the information we need to explore and identify the major cities in the Dallas\u2013Fort Worth metroplex. \n\nWe will use the website https://public.opendatasoft.com/explore/dataset/us-zip-code-latitude-and-longitude/ to obtain all the zipcodes, latititude and longitude coordinates for Dallas, Plano, Irving, Fort Worth, Arlington, and Grapevine.\n\nWe will then leverage the Foresquare API for all the information related to the major nighborhoods in the Dallas\u2013Fort Worth metroplex so that it can be clustered."
        },
        {
            "cell_type": "code",
            "execution_count": 1,
            "metadata": {},
            "outputs": [
                {
                    "name": "stdout",
                    "output_type": "stream",
                    "text": "Solving environment: done\n\n## Package Plan ##\n\n  environment location: /opt/conda/envs/Python36\n\n  added / updated specs: \n    - geopy\n\n\nThe following packages will be downloaded:\n\n    package                    |            build\n    ---------------------------|-----------------\n    ca-certificates-2020.6.20  |       hecda079_0         145 KB  conda-forge\n    geopy-2.0.0                |     pyh9f0ad1d_0          63 KB  conda-forge\n    geographiclib-1.50         |             py_0          34 KB  conda-forge\n    certifi-2020.6.20          |   py36h9f0ad1d_0         151 KB  conda-forge\n    python_abi-3.6             |          1_cp36m           4 KB  conda-forge\n    openssl-1.1.1g             |       h516909a_0         2.1 MB  conda-forge\n    ------------------------------------------------------------\n                                           Total:         2.5 MB\n\nThe following NEW packages will be INSTALLED:\n\n    geographiclib:   1.50-py_0          conda-forge\n    geopy:           2.0.0-pyh9f0ad1d_0 conda-forge\n    python_abi:      3.6-1_cp36m        conda-forge\n\nThe following packages will be UPDATED:\n\n    certifi:         2020.6.20-py36_0               --> 2020.6.20-py36h9f0ad1d_0 conda-forge\n    openssl:         1.1.1g-h7b6447c_0              --> 1.1.1g-h516909a_0        conda-forge\n\nThe following packages will be DOWNGRADED:\n\n    ca-certificates: 2020.6.24-0                    --> 2020.6.20-hecda079_0     conda-forge\n\n\nDownloading and Extracting Packages\nca-certificates-2020 | 145 KB    | ##################################### | 100% \ngeopy-2.0.0          | 63 KB     | ##################################### | 100% \ngeographiclib-1.50   | 34 KB     | ##################################### | 100% \ncertifi-2020.6.20    | 151 KB    | ##################################### | 100% \npython_abi-3.6       | 4 KB      | ##################################### | 100% \nopenssl-1.1.1g       | 2.1 MB    | ##################################### | 100% \nPreparing transaction: done\nVerifying transaction: done\nExecuting transaction: done\nSolving environment: done\n\n## Package Plan ##\n\n  environment location: /opt/conda/envs/Python36\n\n  added / updated specs: \n    - folium=0.5.0\n\n\nThe following packages will be downloaded:\n\n    package                    |            build\n    ---------------------------|-----------------\n    branca-0.4.1               |             py_0          26 KB  conda-forge\n    folium-0.5.0               |             py_0          45 KB  conda-forge\n    vincent-0.4.4              |             py_1          28 KB  conda-forge\n    altair-4.1.0               |             py_1         614 KB  conda-forge\n    ------------------------------------------------------------\n                                           Total:         713 KB\n\nThe following NEW packages will be INSTALLED:\n\n    altair:  4.1.0-py_1 conda-forge\n    branca:  0.4.1-py_0 conda-forge\n    folium:  0.5.0-py_0 conda-forge\n    vincent: 0.4.4-py_1 conda-forge\n\n\nDownloading and Extracting Packages\nbranca-0.4.1         | 26 KB     | ##################################### | 100% \nfolium-0.5.0         | 45 KB     | ##################################### | 100% \nvincent-0.4.4        | 28 KB     | ##################################### | 100% \naltair-4.1.0         | 614 KB    | ##################################### | 100% \nPreparing transaction: done\nVerifying transaction: done\nExecuting transaction: done\nLibraries imported.\n"
                }
            ],
            "source": "import numpy as np # library to handle data in a vectorized manner\n\nimport pandas as pd # library for data analsysis\npd.set_option('display.max_columns', None)\npd.set_option('display.max_rows', None)\n\nimport json # library to handle JSON files\n\n!conda install -c conda-forge geopy --yes # uncomment this line if you haven't completed the Foursquare API lab\nfrom geopy.geocoders import Nominatim # convert an address into latitude and longitude values\n\nimport requests # library to handle requests\nfrom pandas.io.json import json_normalize # tranform JSON file into a pandas dataframe\n\n# Matplotlib and associated plotting modules\nimport matplotlib.cm as cm\nimport matplotlib.colors as colors\n\n# import k-means from clustering stage\nfrom sklearn.cluster import KMeans\n\n!conda install -c conda-forge folium=0.5.0 --yes # uncomment this line if you haven't completed the Foursquare API lab\nimport folium # map rendering library\n\nprint('Libraries imported.')"
        },
        {
            "cell_type": "code",
            "execution_count": 3,
            "metadata": {},
            "outputs": [
                {
                    "data": {
                        "text/html": "<div>\n<style scoped>\n    .dataframe tbody tr th:only-of-type {\n        vertical-align: middle;\n    }\n\n    .dataframe tbody tr th {\n        vertical-align: top;\n    }\n\n    .dataframe thead th {\n        text-align: right;\n    }\n</style>\n<table border=\"1\" class=\"dataframe\">\n  <thead>\n    <tr style=\"text-align: right;\">\n      <th></th>\n      <th>Zip</th>\n      <th>City</th>\n      <th>State</th>\n      <th>Latitude</th>\n      <th>Longitude</th>\n    </tr>\n  </thead>\n  <tbody>\n    <tr>\n      <th>0</th>\n      <td>75294</td>\n      <td>Dallas</td>\n      <td>TX</td>\n      <td>32.767268</td>\n      <td>-96.777626</td>\n    </tr>\n    <tr>\n      <th>1</th>\n      <td>75255</td>\n      <td>Dallas</td>\n      <td>TX</td>\n      <td>32.669783</td>\n      <td>-96.614921</td>\n    </tr>\n    <tr>\n      <th>2</th>\n      <td>75252</td>\n      <td>Dallas</td>\n      <td>TX</td>\n      <td>32.998132</td>\n      <td>-96.790880</td>\n    </tr>\n    <tr>\n      <th>3</th>\n      <td>75202</td>\n      <td>Dallas</td>\n      <td>TX</td>\n      <td>32.779880</td>\n      <td>-96.805020</td>\n    </tr>\n    <tr>\n      <th>4</th>\n      <td>75270</td>\n      <td>Dallas</td>\n      <td>TX</td>\n      <td>32.781330</td>\n      <td>-96.801980</td>\n    </tr>\n  </tbody>\n</table>\n</div>",
                        "text/plain": "     Zip    City State   Latitude  Longitude\n0  75294  Dallas    TX  32.767268 -96.777626\n1  75255  Dallas    TX  32.669783 -96.614921\n2  75252  Dallas    TX  32.998132 -96.790880\n3  75202  Dallas    TX  32.779880 -96.805020\n4  75270  Dallas    TX  32.781330 -96.801980"
                    },
                    "execution_count": 3,
                    "metadata": {},
                    "output_type": "execute_result"
                }
            ],
            "source": "# The code was removed by Watson Studio for sharing."
        },
        {
            "cell_type": "code",
            "execution_count": null,
            "metadata": {},
            "outputs": [],
            "source": ""
        }
    ],
    "metadata": {
        "kernelspec": {
            "display_name": "Python 3.6",
            "language": "python",
            "name": "python3"
        },
        "language_info": {
            "codemirror_mode": {
                "name": "ipython",
                "version": 3
            },
            "file_extension": ".py",
            "mimetype": "text/x-python",
            "name": "python",
            "nbconvert_exporter": "python",
            "pygments_lexer": "ipython3",
            "version": "3.6.9"
        }
    },
    "nbformat": 4,
    "nbformat_minor": 1
}